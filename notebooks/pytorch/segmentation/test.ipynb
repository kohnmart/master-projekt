{
 "cells": [
  {
   "cell_type": "code",
   "execution_count": 29,
   "metadata": {},
   "outputs": [],
   "source": [
    "import numpy as np\n",
    "\n",
    "def get_edge_points_from_coords(coords, mask):\n",
    "    # Create a set of all points for quick lookup\n",
    "    point_set = set(map(tuple, coords))\n",
    "    \n",
    "    # List to hold edge points\n",
    "    edge_points = []\n",
    "\n",
    "    # Define the 8 possible directions (N, NE, E, SE, S, SW, W, NW)\n",
    "    directions = [(-1, 0), (-1, 1), (0, 1), (1, 1), \n",
    "                  (1, 0), (1, -1), (0, -1), (-1, -1)]\n",
    "\n",
    "    # Check each point in the coords\n",
    "    for point in coords:\n",
    "        y, x = point\n",
    "        is_edge = False\n",
    "        for dy, dx in 4:\n",
    "            neighbor = (y + dy, x + dx)\n",
    "            if neighbor not in point_set:\n",
    "                is_edge = True\n",
    "                break\n",
    "        if is_edge:\n",
    "            edge_points.append(point)\n",
    "\n",
    "    return np.array(edge_points)\n"
   ]
  },
  {
   "cell_type": "code",
   "execution_count": 30,
   "metadata": {},
   "outputs": [],
   "source": [
    "import cv2\n",
    "import matplotlib.pyplot as plt\n",
    "\n",
    "def plot_edge_points(image, edge_points, color=(0, 255, 0), radius=1):\n",
    "    image = np.asarray(image)\n",
    "    \n",
    "    for point in edge_points:\n",
    "        cv2.circle(image, (point[1], point[0]), radius, color, -1)\n",
    "    \n",
    "    plt.figure(figsize=(10, 10))\n",
    "    plt.imshow(image)\n",
    "    plt.title(\"Edge Points\")\n",
    "    plt.show()\n",
    "    return image\n"
   ]
  },
  {
   "cell_type": "code",
   "execution_count": 31,
   "metadata": {},
   "outputs": [
    {
     "ename": "TypeError",
     "evalue": "'int' object is not iterable",
     "output_type": "error",
     "traceback": [
      "\u001b[0;31m---------------------------------------------------------------------------\u001b[0m",
      "\u001b[0;31mTypeError\u001b[0m                                 Traceback (most recent call last)",
      "Cell \u001b[0;32mIn[31], line 17\u001b[0m\n\u001b[1;32m     14\u001b[0m image \u001b[39m=\u001b[39m np\u001b[39m.\u001b[39mzeros((\u001b[39m20\u001b[39m, \u001b[39m20\u001b[39m, \u001b[39m3\u001b[39m), dtype\u001b[39m=\u001b[39mnp\u001b[39m.\u001b[39muint8)\n\u001b[1;32m     16\u001b[0m \u001b[39m# Get the edge points from the coordinates\u001b[39;00m\n\u001b[0;32m---> 17\u001b[0m edge_points \u001b[39m=\u001b[39m get_edge_points_from_coords(coords, mask)\n\u001b[1;32m     18\u001b[0m \u001b[39mprint\u001b[39m(\u001b[39mlen\u001b[39m(edge_points))\n\u001b[1;32m     19\u001b[0m \u001b[39m# Plot the edge points on the image\u001b[39;00m\n",
      "Cell \u001b[0;32mIn[29], line 18\u001b[0m, in \u001b[0;36mget_edge_points_from_coords\u001b[0;34m(coords, mask)\u001b[0m\n\u001b[1;32m     16\u001b[0m y, x \u001b[39m=\u001b[39m point\n\u001b[1;32m     17\u001b[0m is_edge \u001b[39m=\u001b[39m \u001b[39mFalse\u001b[39;00m\n\u001b[0;32m---> 18\u001b[0m \u001b[39mfor\u001b[39;49;00m dy, dx \u001b[39min\u001b[39;49;00m \u001b[39m4\u001b[39;49m:\n\u001b[1;32m     19\u001b[0m     neighbor \u001b[39m=\u001b[39;49m (y \u001b[39m+\u001b[39;49m dy, x \u001b[39m+\u001b[39;49m dx)\n\u001b[1;32m     20\u001b[0m     \u001b[39mif\u001b[39;49;00m neighbor \u001b[39mnot\u001b[39;49;00m \u001b[39min\u001b[39;49;00m point_set:\n",
      "\u001b[0;31mTypeError\u001b[0m: 'int' object is not iterable"
     ]
    }
   ],
   "source": [
    "# Example mask (for demonstration purposes)\n",
    "mask = np.array([\n",
    "    [0, 0, 1, 0, 0],\n",
    "    [0, 1, 1, 1, 0],\n",
    "    [1, 1, 1, 1, 1],\n",
    "    [0, 1, 1, 1, 0],\n",
    "    [0, 0, 1, 0, 0]\n",
    "])\n",
    "\n",
    "# Extract coordinates from the mask\n",
    "coords = np.column_stack(np.where(mask))\n",
    "\n",
    "# Example image (for demonstration purposes)\n",
    "image = np.zeros((20, 20, 3), dtype=np.uint8)\n",
    "\n",
    "# Get the edge points from the coordinates\n",
    "edge_points = get_edge_points_from_coords(coords, mask)\n",
    "print(len(edge_points))\n",
    "# Plot the edge points on the image\n",
    "plot_edge_points(image, edge_points)\n"
   ]
  },
  {
   "cell_type": "code",
   "execution_count": 49,
   "metadata": {},
   "outputs": [
    {
     "data": {
      "image/png": "[encoded data removed]",
      "text/plain": [
       "<Figure size 1000x1000 with 1 Axes>"
      ]
     },
     "metadata": {},
     "output_type": "display_data"
    },
    {
     "data": {
      "text/plain": [
       "array([[[  0, 255,   0],\n",
       "        [  0,   0,   0],\n",
       "        [  0,   0,   0],\n",
       "        [  0,   0,   0],\n",
       "        [  0, 255,   0]],\n",
       "\n",
       "       [[  0, 255,   0],\n",
       "        [  0, 255,   0],\n",
       "        [  0,   0,   0],\n",
       "        [  0, 255,   0],\n",
       "        [  0, 255,   0]],\n",
       "\n",
       "       [[  0, 255,   0],\n",
       "        [  0,   0,   0],\n",
       "        [  0,   0,   0],\n",
       "        [  0,   0,   0],\n",
       "        [  0, 255,   0]],\n",
       "\n",
       "       [[  0, 255,   0],\n",
       "        [  0, 255,   0],\n",
       "        [  0,   0,   0],\n",
       "        [  0, 255,   0],\n",
       "        [  0, 255,   0]],\n",
       "\n",
       "       [[  0, 255,   0],\n",
       "        [  0,   0,   0],\n",
       "        [  0,   0,   0],\n",
       "        [  0,   0,   0],\n",
       "        [  0, 255,   0]]], dtype=uint8)"
      ]
     },
     "execution_count": 49,
     "metadata": {},
     "output_type": "execute_result"
    }
   ],
   "source": [
    "import numpy as np\n",
    "import cv2\n",
    "import matplotlib.pyplot as plt\n",
    "\n",
    "def get_edge_points_from_mask_contours(mask):\n",
    "    # Ensure mask is in the correct format (uint8)\n",
    "    if mask.dtype != np.uint8:\n",
    "        mask = mask.astype(np.uint8)\n",
    "    \n",
    "    # Find contours\n",
    "    contours, _ = cv2.findContours(mask, cv2.RETR_EXTERNAL, cv2.CHAIN_APPROX_SIMPLE)\n",
    "    \n",
    "    # Extract edge points from contours\n",
    "    edge_points = []\n",
    "    for contour in contours:\n",
    "        for point in contour:\n",
    "            edge_points.append(point[0])\n",
    "    \n",
    "    return np.array(edge_points)\n",
    "\n",
    "def plot_edge_points(image, edge_points, color=(0, 255, 0), radius=1):\n",
    "    image = np.asarray(image)\n",
    "    \n",
    "    for point in edge_points:\n",
    "        cv2.circle(image, (point[0], point[1]), radius, color, -1)\n",
    "    \n",
    "    plt.figure(figsize=(10, 10))\n",
    "    plt.imshow(image)\n",
    "    plt.title(\"Edge Points\")\n",
    "    plt.show()\n",
    "    return image\n",
    "\n",
    "# Example mask (for demonstration purposes)\n",
    "mask = np.array([\n",
    "    [0, 0, 0, 0, 0],\n",
    "    [1, 1, 1, 1, 1],\n",
    "    [1, 1, 1, 1, 1],\n",
    "    [1, 1, 1, 1, 1],\n",
    "    [0, 0, 0, 0, 0]\n",
    "], dtype=np.uint8)\n",
    "\n",
    "# Example image (for demonstration purposes)\n",
    "image = np.zeros((5, 5, 3), dtype=np.uint8)\n",
    "\n",
    "# Get the edge points from the mask using contours\n",
    "edge_points = get_edge_points_from_mask_contours(mask)\n",
    "\n",
    "# Plot the edge points on the image\n",
    "plot_edge_points(image, edge_points)\n"
   ]
  }
 ],
 "metadata": {
  "kernelspec": {
   "display_name": "torch",
   "language": "python",
   "name": "python3"
  },
  "language_info": {
   "codemirror_mode": {
    "name": "ipython",
    "version": 3
   },
   "file_extension": ".py",
   "mimetype": "text/x-python",
   "name": "python",
   "nbconvert_exporter": "python",
   "pygments_lexer": "ipython3",
   "version": "3.11.0"
  },
  "orig_nbformat": 4
 },
 "nbformat": 4,
 "nbformat_minor": 2
}
