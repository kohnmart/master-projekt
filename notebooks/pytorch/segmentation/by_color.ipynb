{
 "cells": [
  {
   "cell_type": "code",
   "execution_count": 1,
   "metadata": {},
   "outputs": [],
   "source": [
    "# system\n",
    "import sys\n",
    "import os\n",
    "\n",
    "sys.path.append(os.path.abspath(os.path.join(os.getcwd(), '../../..')))\n",
    "\n",
    "from config.path import get_training_data_path, get_checkpoint_path, DATASET_PATH_TYPE\n",
    "from PIL import Image\n",
    "import matplotlib.pyplot as plt\n",
    "import matplotlib.patches as mpatches\n",
    "import numpy as np\n",
    "import torch\n",
    "\n",
    "\n",
    "import cv2\n",
    "import supervision as sv"
   ]
  },
  {
   "cell_type": "code",
   "execution_count": 3,
   "metadata": {},
   "outputs": [],
   "source": [
    "path = get_training_data_path(DATASET_PATH_TYPE.segmentator, 'mixed_0000.png')\n",
    "image = cv2.imread(path)"
   ]
  },
  {
   "cell_type": "code",
   "execution_count": 4,
   "metadata": {},
   "outputs": [],
   "source": [
    "def morph_op(img, mode='open', ksize=5, iterations=1):\n",
    "    im = img.copy()\n",
    "    kernel = cv2.getStructuringElement(cv2.MORPH_ELLIPSE,(ksize, ksize))\n",
    "     \n",
    "    if mode == 'open':\n",
    "        morphed = cv2.morphologyEx(im, cv2.MORPH_OPEN, kernel)\n",
    "    elif mode == 'close':\n",
    "        morphed = cv2.morphologyEx(im, cv2.MORPH_CLOSE, kernel)\n",
    "    elif mode == 'erode':\n",
    "        morphed = cv2.erode(im, kernel)\n",
    "    else:\n",
    "        morphed = cv2.dilate(im, kernel)\n",
    "     \n",
    "    return morphed"
   ]
  },
  {
   "cell_type": "code",
   "execution_count": 12,
   "metadata": {},
   "outputs": [
    {
     "ename": "error",
     "evalue": "OpenCV(4.8.0) /io/opencv/modules/imgproc/src/color.simd_helpers.hpp:92: error: (-2:Unspecified error) in function 'cv::impl::{anonymous}::CvtHelper<VScn, VDcn, VDepth, sizePolicy>::CvtHelper(cv::InputArray, cv::OutputArray, int) [with VScn = cv::impl::{anonymous}::Set<3, 4>; VDcn = cv::impl::{anonymous}::Set<3>; VDepth = cv::impl::{anonymous}::Set<0, 5>; cv::impl::{anonymous}::SizePolicy sizePolicy = cv::impl::<unnamed>::NONE; cv::InputArray = const cv::_InputArray&; cv::OutputArray = const cv::_OutputArray&]'\n> Invalid number of channels in input image:\n>     'VScn::contains(scn)'\n> where\n>     'scn' is 1\n",
     "output_type": "error",
     "traceback": [
      "\u001b[0;31m---------------------------------------------------------------------------\u001b[0m",
      "\u001b[0;31merror\u001b[0m                                     Traceback (most recent call last)",
      "Cell \u001b[0;32mIn[12], line 10\u001b[0m\n\u001b[1;32m      6\u001b[0m     inv_mask \u001b[39m=\u001b[39m \u001b[39m255\u001b[39m \u001b[39m-\u001b[39m mask\n\u001b[1;32m      8\u001b[0m     \u001b[39mreturn\u001b[39;00m inv_mask\n\u001b[0;32m---> 10\u001b[0m mask_berries \u001b[39m=\u001b[39m get_color_mask(image, \n\u001b[1;32m     11\u001b[0m                               lower\u001b[39m=\u001b[39;49m[\u001b[39m0\u001b[39;49m, \u001b[39m211\u001b[39;49m, \u001b[39m111\u001b[39;49m], \n\u001b[1;32m     12\u001b[0m                               upper\u001b[39m=\u001b[39;49m[\u001b[39m16\u001b[39;49m, \u001b[39m255\u001b[39;49m,\u001b[39m255\u001b[39;49m])\n\u001b[1;32m     14\u001b[0m \u001b[39m# Morphological operation, default is 'open'.\u001b[39;00m\n\u001b[1;32m     15\u001b[0m morphed_berries \u001b[39m=\u001b[39m morph_op(mask_berries)\n",
      "Cell \u001b[0;32mIn[12], line 2\u001b[0m, in \u001b[0;36mget_color_mask\u001b[0;34m(img, lower, upper)\u001b[0m\n\u001b[1;32m      1\u001b[0m \u001b[39mdef\u001b[39;00m \u001b[39mget_color_mask\u001b[39m(img, lower\u001b[39m=\u001b[39m[\u001b[39m0\u001b[39m,\u001b[39m0\u001b[39m,\u001b[39m0\u001b[39m], upper\u001b[39m=\u001b[39m[\u001b[39m0\u001b[39m,\u001b[39m255\u001b[39m,\u001b[39m255\u001b[39m]):\n\u001b[0;32m----> 2\u001b[0m     img_hsv \u001b[39m=\u001b[39m cv2\u001b[39m.\u001b[39;49mcvtColor(img, cv2\u001b[39m.\u001b[39;49mCOLOR_BGR2HSV)\n\u001b[1;32m      3\u001b[0m     low \u001b[39m=\u001b[39m np\u001b[39m.\u001b[39marray(lower)\n\u001b[1;32m      4\u001b[0m     up \u001b[39m=\u001b[39m np\u001b[39m.\u001b[39marray(upper)\n",
      "\u001b[0;31merror\u001b[0m: OpenCV(4.8.0) /io/opencv/modules/imgproc/src/color.simd_helpers.hpp:92: error: (-2:Unspecified error) in function 'cv::impl::{anonymous}::CvtHelper<VScn, VDcn, VDepth, sizePolicy>::CvtHelper(cv::InputArray, cv::OutputArray, int) [with VScn = cv::impl::{anonymous}::Set<3, 4>; VDcn = cv::impl::{anonymous}::Set<3>; VDepth = cv::impl::{anonymous}::Set<0, 5>; cv::impl::{anonymous}::SizePolicy sizePolicy = cv::impl::<unnamed>::NONE; cv::InputArray = const cv::_InputArray&; cv::OutputArray = const cv::_OutputArray&]'\n> Invalid number of channels in input image:\n>     'VScn::contains(scn)'\n> where\n>     'scn' is 1\n"
     ]
    }
   ],
   "source": [
    "def get_color_mask(img, lower=[0,0,0], upper=[0,255,255]):\n",
    "    img_hsv = cv2.cvtColor(img, cv2.COLOR_BGR2HSV)\n",
    "    low = np.array(lower)\n",
    "    up = np.array(upper)\n",
    "    mask = cv2.inRange(img_hsv, low, up)\n",
    "    inv_mask = 255 - mask\n",
    "     \n",
    "    return inv_mask\n",
    "cv2.draw\n",
    "\n",
    "mask_berries = get_color_mask(image, \n",
    "                              lower=[0, 211, 111], \n",
    "                              upper=[16, 255,255])\n",
    " \n",
    "# Morphological operation, default is 'open'.\n",
    "morphed_berries = morph_op(mask_berries)\n",
    "\n",
    "display(morphed_berries, \n",
    "        name_l='Annotating Thresholded Stags', \n",
    "        figsize=(20,14))"
   ]
  }
 ],
 "metadata": {
  "kernelspec": {
   "display_name": "torch",
   "language": "python",
   "name": "python3"
  },
  "language_info": {
   "codemirror_mode": {
    "name": "ipython",
    "version": 3
   },
   "file_extension": ".py",
   "mimetype": "text/x-python",
   "name": "python",
   "nbconvert_exporter": "python",
   "pygments_lexer": "ipython3",
   "version": "3.11.0"
  },
  "orig_nbformat": 4
 },
 "nbformat": 4,
 "nbformat_minor": 2
}
