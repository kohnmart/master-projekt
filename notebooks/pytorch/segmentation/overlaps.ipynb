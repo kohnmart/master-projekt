{
 "cells": [
  {
   "cell_type": "code",
   "execution_count": 1,
   "metadata": {},
   "outputs": [],
   "source": [
    "# system\n",
    "import sys\n",
    "import os\n",
    "\n",
    "sys.path.append(os.path.abspath(os.path.join(os.getcwd(), '../../..')))\n",
    "\n",
    "from config.path import get_training_data_path, get_checkpoint_path, DATASET_PATH_TYPE\n",
    "from src.utils.augmentation import erase_generator\n",
    "from PIL import Image\n",
    "import matplotlib.pyplot as plt\n",
    "import matplotlib.patches as mpatches\n",
    "import numpy as np\n",
    "import torch\n",
    "\n",
    "from segment_anything import sam_model_registry, SamAutomaticMaskGenerator, SamPredictor\n",
    "\n",
    "import cv2\n",
    "import supervision as sv"
   ]
  },
  {
   "cell_type": "code",
   "execution_count": 3,
   "metadata": {},
   "outputs": [
    {
     "data": {
      "text/plain": [
       "<matplotlib.image.AxesImage at 0x7f871e3a1e50>"
      ]
     },
     "execution_count": 3,
     "metadata": {},
     "output_type": "execute_result"
    },
    {
     "data": {
      "image/png": "[encoded data removed]",
      "text/plain": [
       "<Figure size 640x480 with 1 Axes>"
      ]
     },
     "metadata": {},
     "output_type": "display_data"
    }
   ],
   "source": [
    "blueprint_tshirt = cv2.imread('blueprints/tshirt_base.png', cv2.IMREAD_GRAYSCALE)\n",
    "blueprint_shirt = cv2.imread('blueprints/jacket_shirt_base.png', cv2.IMREAD_GRAYSCALE)\n",
    "blueprint_rect = cv2.imread('blueprints/rect_base.png', cv2.IMREAD_GRAYSCALE)\n",
    "blueprint_elliptic = cv2.imread('blueprints/elliptic_base.png', cv2.IMREAD_GRAYSCALE)\n",
    "# Threshold to create a binary mask\n",
    "_, blueprint_mask_tshirt = cv2.threshold(blueprint_tshirt, 128, 255, cv2.THRESH_BINARY)\n",
    "_, blueprint_mask_shirt = cv2.threshold(blueprint_shirt, 128, 255, cv2.THRESH_BINARY)\n",
    "_, blueprint_mask_base = cv2.threshold(blueprint_rect, 128, 255, cv2.THRESH_BINARY)\n",
    "_, blueprint_mask_elliptic = cv2.threshold(blueprint_elliptic, 128, 255, cv2.THRESH_BINARY)\n",
    "blueprint_masks = [['large_rect', blueprint_mask_base]]\n",
    "\n",
    "plt.imshow(blueprint_mask_base)"
   ]
  },
  {
   "cell_type": "code",
   "execution_count": null,
   "metadata": {},
   "outputs": [],
   "source": [
    "rotated_masks = []\n",
    "angle_step = 10\n",
    "for angle in range(0, 360, angle_step):\n",
    "    (h, w) = cropped_mask.shape[:2]\n",
    "    center = (w / 2, h / 2)\n",
    "    M = cv2.getRotationMatrix2D(center, angle, 1.0)\n",
    "    rotated = cv2.warpAffine(cropped_mask, M, (w, h), flags=cv2.INTER_NEAREST)\n",
    "    rotated_masks.append(rotated)"
   ]
  },
  {
   "cell_type": "code",
   "execution_count": null,
   "metadata": {},
   "outputs": [],
   "source": [
    "def compute_overlap(mask1, mask2):\n",
    "    # Compute the overlapping area between two binary masks\n",
    "    overlap = np.sum((mask1 == 255) & (mask2 == 255))\n",
    "    return overlap\n",
    "\n",
    "def find_best_rotation(input_mask, blueprint_mask, angle_step=1):\n",
    "    best_angle = 0\n",
    "    max_overlap = 0\n",
    "    \n",
    "    for angle in range(0, 360, angle_step):\n",
    "        # Rotate the input mask\n",
    "        rotated_mask = rotate_image(input_mask, angle)\n",
    "        \n",
    "        # Compute the overlap with the blueprint mask\n",
    "        overlap = compute_overlap(rotated_mask, blueprint_mask[1])\n",
    "        if overlap > max_overlap:\n",
    "            max_overlap = overlap\n",
    "            best_angle = angle\n",
    "    \n",
    "    #print(f\"Best mask: {blueprint_mask[0]}\")\n",
    "    return [max_overlap, best_angle]\n",
    "\n",
    "def rotate_image(image, angle):\n",
    "    (h, w) = image.shape[:2]\n",
    "    center = (w / 2, h / 2)\n",
    "    M = cv2.getRotationMatrix2D(center, angle, 1.0)\n",
    "    rotated = cv2.warpAffine(image, M, (w, h), flags=cv2.INTER_NEAREST)\n",
    "    return rotated\n",
    "\n",
    "\n",
    "\n",
    "def plot_before_after_rotations(rotated_masks, original_image, num_rows=18):\n",
    "    fig, axs = plt.subplots(num_rows, 4, figsize=(16, num_rows * 3))\n",
    "    plt.subplots_adjust(hspace=0.0, wspace=0.0)  # Reduce padding between subplots\n",
    "\n",
    "    for i in range(num_rows):\n",
    "        line_ax = fig.add_subplot(num_rows, 1, i + 1, frame_on=False)\n",
    "        line_ax.plot([0.5, 0.5], [0, 1], transform=fig.transFigure, color='red', linestyle='--')\n",
    "        line_ax.axis('off')  # Turn off the axis\n",
    "\n",
    "    for i, mask in enumerate(rotated_masks):\n",
    "        # Find the best rotation angle\n",
    "        tester = rotate_image(original_image, i * 10)\n",
    "        angles = []\n",
    "        for blueprint_mask in blueprint_masks:\n",
    "            best_angle = find_best_rotation(mask, blueprint_mask)\n",
    "            angles.append(best_angle)\n",
    "        best_angle_final = np.max(angles, axis=0)[1]\n",
    "\n",
    "        aligned_image = rotate_image(tester, best_angle_final)\n",
    "        \n",
    "        row = i // 2\n",
    "        col = (i % 2) * 2\n",
    "        \n",
    "        axs[row, col].imshow(tester, cmap='gray')\n",
    "        axs[row, col].set_title(f'Before Rotation {i*10}°')\n",
    "        axs[row, col].axis('off')\n",
    "\n",
    "        axs[row, col + 1].imshow(aligned_image, cmap='gray')\n",
    "        axs[row, col + 1].set_title(f'After Best Rotation {best_angle_final}°')\n",
    "        axs[row, col + 1].axis('off')\n",
    "\n",
    "    plt.tight_layout()\n",
    "    plt.savefig(f'./plots/{file_name}')\n",
    "\n",
    "\n",
    "plot_before_after_rotations(rotated_masks, masked_image)\n",
    "\n"
   ]
  }
 ],
 "metadata": {
  "kernelspec": {
   "display_name": "torch",
   "language": "python",
   "name": "python3"
  },
  "language_info": {
   "codemirror_mode": {
    "name": "ipython",
    "version": 3
   },
   "file_extension": ".py",
   "mimetype": "text/x-python",
   "name": "python",
   "nbconvert_exporter": "python",
   "pygments_lexer": "ipython3",
   "version": "3.11.0"
  },
  "orig_nbformat": 4
 },
 "nbformat": 4,
 "nbformat_minor": 2
}
