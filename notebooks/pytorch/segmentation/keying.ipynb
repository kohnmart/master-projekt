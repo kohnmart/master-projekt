{
 "cells": [
  {
   "cell_type": "markdown",
   "metadata": {},
   "source": [
    "# KEYING PLAYGROUND"
   ]
  },
  {
   "cell_type": "markdown",
   "metadata": {},
   "source": [
    "<span style=\"color: white;\">\n",
    "Explanation: This notebook serves as a testing environment to try out various keying parameters on the <br> conveyor belt to remove background from samples returning a binary mask.\n",
    "</span>\n",
    "<br>\n",
    "<span style=\"color: yellow;\">\n",
    "Note: This has been deprecated since its not usable when light is slightly varying.\n",
    "</span>\n"
   ]
  },
  {
   "cell_type": "markdown",
   "metadata": {},
   "source": [
    "**IMPORT**"
   ]
  },
  {
   "cell_type": "code",
   "execution_count": null,
   "metadata": {},
   "outputs": [],
   "source": [
    "# system\n",
    "import sys\n",
    "import os\n",
    "\n",
    "sys.path.append(os.path.abspath(os.path.join(os.getcwd(), '../../..')))\n",
    "\n",
    "from config.path import get_training_data_path, get_checkpoint_path, DATASET_PATH_TYPE\n",
    "from src.utils.augmentation import erase_generator\n",
    "from PIL import Image\n",
    "import matplotlib.pyplot as plt\n",
    "import matplotlib.patches as mpatches\n",
    "import numpy as np\n",
    "import torch\n",
    "import cv2"
   ]
  },
  {
   "cell_type": "markdown",
   "metadata": {},
   "source": [
    "**LOAD DATA**"
   ]
  },
  {
   "cell_type": "code",
   "execution_count": null,
   "metadata": {},
   "outputs": [],
   "source": [
    "relative_path = get_training_data_path('production', 'band')\n",
    "file_name = 'frame_304test.jpg'\n",
    "fullpath = os.path.join(relative_path, file_name)\n",
    "orig_image = Image.open(fullpath)"
   ]
  },
  {
   "cell_type": "markdown",
   "metadata": {},
   "source": [
    "**PROCESS TO BINARY MASK**"
   ]
  },
  {
   "cell_type": "code",
   "execution_count": null,
   "metadata": {},
   "outputs": [],
   "source": [
    "n_image = np.array(orig_image)\n",
    "n_image = cv2.medianBlur(n_image, 31)\n",
    "\n",
    "# Calculate the average color\n",
    "n_cropped = n_image[0:5, 15:20]\n",
    "average_color = n_cropped.mean(axis=0).mean(axis=0)\n",
    "\n",
    "\n",
    "# Define a threshold range around the average color\n",
    "threshold = 50  # Adjust this value as needed\n",
    "lower_bound = np.clip(average_color - threshold, 0, 255)\n",
    "upper_bound = np.clip(average_color + threshold, 0, 255)\n",
    "\n",
    "# Apply the threshold to create a mask\n",
    "# Apply the threshold to create a mask\n",
    "mask = cv2.inRange(n_image, lower_bound, upper_bound)\n",
    "\n",
    "# Invert the mask to create a binary mask\n",
    "binary_mask = cv2.bitwise_not(mask)\n",
    "\n",
    "n_orig_image = np.array(orig_image)\n",
    "\n",
    "result_image = cv2.bitwise_and(n_orig_image, n_orig_image, mask=binary_mask)\n",
    "\n",
    "# Display the binary mask using Matplotlib\n",
    "plt.imshow(result_image, cmap='gray')\n",
    "plt.title('Binary Mask')\n",
    "plt.show()\n",
    "\n",
    "# If you need to return the binary mask, you can return it as a numpy array\n",
    "binary_mask"
   ]
  }
 ],
 "metadata": {
  "kernelspec": {
   "display_name": "torch",
   "language": "python",
   "name": "python3"
  },
  "language_info": {
   "codemirror_mode": {
    "name": "ipython",
    "version": 3
   },
   "file_extension": ".py",
   "mimetype": "text/x-python",
   "name": "python",
   "nbconvert_exporter": "python",
   "pygments_lexer": "ipython3",
   "version": "3.11.0"
  },
  "orig_nbformat": 4
 },
 "nbformat": 4,
 "nbformat_minor": 2
}
