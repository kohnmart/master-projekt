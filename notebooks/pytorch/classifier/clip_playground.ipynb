{
 "cells": [
  {
   "cell_type": "markdown",
   "metadata": {},
   "source": [
    "# CLIP PLAYGROUND"
   ]
  },
  {
   "cell_type": "markdown",
   "metadata": {},
   "source": [
    "<span style=\"color: white;\">\n",
    "Explanation: This notebook serves as a debugging tool for the classifier <br> pipeline, used to investigate specific classes, prompts, and subbranches involved in misclassifications.\n",
    "</span>\n"
   ]
  },
  {
   "cell_type": "code",
   "execution_count": null,
   "metadata": {},
   "outputs": [],
   "source": [
    "import os\n",
    "import sys\n",
    "\n",
    "sys.path.append(os.path.abspath(os.path.join(os.getcwd(), '../../..')))\n",
    "\n",
    "\n",
    "from src.pipeline.modules.clip import ClipFast\n",
    "from src.pipeline.modules.helper.vision import rotation_image_proper\n",
    "from src.pipeline.modules.cloth_matrix import ClothingSimilarity\n",
    "from src.pipeline.modules.cloth_categories import ClothingCategories\n",
    "from src.pipeline.modules.helper.loader import load_images_from_folder\n",
    "\n",
    "from config.path import get_training_data_path\n",
    "from PIL import Image\n",
    "import cv2\n",
    "import matplotlib.pyplot as plt\n",
    "import numpy as np\n"
   ]
  },
  {
   "cell_type": "code",
   "execution_count": null,
   "metadata": {},
   "outputs": [],
   "source": [
    "clip_instance = ClipFast(model_name='ViT-L/14')"
   ]
  },
  {
   "cell_type": "code",
   "execution_count": null,
   "metadata": {},
   "outputs": [],
   "source": [
    "relative_path = get_training_data_path('setup-v2', 'dress-stage-1')\n",
    "fullpath = os.path.join(relative_path, 'frame6596_dress.jpg')\n",
    "print(fullpath)"
   ]
  },
  {
   "cell_type": "code",
   "execution_count": null,
   "metadata": {},
   "outputs": [],
   "source": [
    "image = cv2.imread(fullpath)\n",
    "\n",
    "rot_accuracy = []\n",
    "\n",
    "rot_frame_rgb = image\n",
    "\n",
    "# Display the rotated image using Matplotlib\n",
    "plt.imshow(rot_frame_rgb)\n",
    "plt.title('Rotated Image')\n",
    "plt.axis('off')  # Hide axis\n",
    "plt.show()\n",
    "\n",
    "with_rotation = True\n",
    "\n",
    "shirts = [\"Shirt\", 'T-Shirt']\n",
    "\n",
    "top = ['dress or skirt', 'jacket or shirt', 'pant or short']\n",
    "\n",
    "res = clip_instance.clip_decision_plain(rot_frame_rgb, with_rotation)\n",
    "print(res[0]['score_tree'])\n"
   ]
  }
 ],
 "metadata": {
  "kernelspec": {
   "display_name": "torch",
   "language": "python",
   "name": "python3"
  },
  "language_info": {
   "codemirror_mode": {
    "name": "ipython",
    "version": 3
   },
   "file_extension": ".py",
   "mimetype": "text/x-python",
   "name": "python",
   "nbconvert_exporter": "python",
   "pygments_lexer": "ipython3",
   "version": "3.11.0"
  },
  "orig_nbformat": 4
 },
 "nbformat": 4,
 "nbformat_minor": 2
}
