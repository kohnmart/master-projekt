{
 "cells": [
  {
   "cell_type": "markdown",
   "metadata": {},
   "source": [
    "### Stable Diffusion Pipeline (GPU)"
   ]
  },
  {
   "cell_type": "markdown",
   "metadata": {},
   "source": [
    "##### https://huggingface.co/docs/diffusers/api/pipelines/stable_diffusion/img2img"
   ]
  },
  {
   "cell_type": "code",
   "execution_count": null,
   "metadata": {},
   "outputs": [],
   "source": [
    "# system\n",
    "import sys\n",
    "import os\n",
    "\n",
    "sys.path.append(os.path.abspath(os.path.join(os.getcwd(), '..')))\n",
    "\n",
    "\n",
    "from src.utils.stable import getOutputName\n",
    "from config.paths import PATH_TO_STABLE_INPUT, PATH_TO_STABLE_OUTPUT\n",
    "import torch\n",
    "import os\n",
    "from PIL import Image\n",
    "import datetime\n",
    "from diffusers import StableDiffusionImg2ImgPipeline\n",
    "import random\n",
    "\n",
    "\n",
    "device = \"cuda\" # this works gpu only\n",
    "model_id_or_path = \"runwayml/stable-diffusion-v1-5\"\n",
    "pipe = StableDiffusionImg2ImgPipeline.from_pretrained(model_id_or_path, torch_dtype=torch.float16)\n",
    "pipe = pipe.to(device)"
   ]
  },
  {
   "cell_type": "code",
   "execution_count": null,
   "metadata": {},
   "outputs": [],
   "source": [
    "# define cloth type\n",
    "clothType = 'dress'\n",
    "\n",
    "prompts = [\n",
    "        f'Generate a new variation of this {clothType}'\n",
    "        #f'Transform this {clothType}, add new color and material, add crumpled and wrinkled up, add white seamless background'\n",
    "        \n",
    "        # f'{clothType} in random layout',\n",
    "        # f'single {clothType} with pockets laying on white plain background'\n",
    "        # f'single {clothType} with zipper on white plain background',\n",
    "        # f'single {clothType} with knobs on white plain background'\n",
    "        # f'single {clothType} with print on white plain background'\n",
    "        # f'make this {clothType} look from the backside',\n",
    "]\n",
    "\n",
    "negative_prompt = ['hands, face, hair, eyes, human, woman, men, person, skin, shadow']"
   ]
  },
  {
   "cell_type": "code",
   "execution_count": null,
   "metadata": {},
   "outputs": [],
   "source": [
    "%%capture\n",
    "for raw_sample in os.listdir(PATH_TO_STABLE_INPUT):\n",
    "    imgPath = os.path.join(PATH_TO_STABLE_INPUT, raw_sample)\n",
    "    init_image = Image.open(imgPath).convert(\"RGB\")\n",
    "    init_image = init_image.resize((512, 512))\n",
    "\n",
    "    for prompt in prompts:\n",
    "        images = pipe(prompt=prompt, negative_prompt=negative_prompt[0], image=init_image, strength=0.5, guidance_scale=7).images\n",
    "        current_timestamp = datetime.datetime.now()\n",
    "        formatted_timestamp = current_timestamp.strftime(\"%Y%m%d%H%M%S\")  # Format the timestamp as a string\n",
    "    \n",
    "        name = clothType + formatted_timestamp + \"_0.png\"\n",
    "        images[0].save(os.path.join(PATH_TO_STABLE_OUTPUT, name))\n",
    "\n",
    "        # generations\n",
    "        for i in range(0, 2):\n",
    "                mirr_image = images[0].transpose(Image.FLIP_LEFT_RIGHT)\n",
    "                # Mirror the image horizontally (left-to-right)\n",
    "                image_var = pipe(prompt=prompt, \n",
    "                              negative_prompt=negative_prompt[0], \n",
    "                              image=mirr_image, \n",
    "                              strength=0.7, \n",
    "                              guidance_scale=(random.randint(5,7))\n",
    "                              ).images\n",
    "                name = clothType + formatted_timestamp + \"_\" + str(i+1) + \".png\"\n",
    "                image_var[0].save(os.path.join(PATH_TO_STABLE_OUTPUT, name))"
   ]
  }
 ],
 "metadata": {
  "language_info": {
   "name": "python"
  },
  "orig_nbformat": 4
 },
 "nbformat": 4,
 "nbformat_minor": 2
}
