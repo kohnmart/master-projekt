{
 "cells": [
  {
   "cell_type": "code",
   "execution_count": null,
   "metadata": {},
   "outputs": [],
   "source": [
    "# system\n",
    "import sys\n",
    "import os\n",
    "\n",
    "sys.path.append(os.path.abspath(os.path.join(os.getcwd(), '../../')))\n",
    "\n",
    "from config.path import get_training_data_path\n",
    "\n",
    "import cv2\n",
    "import numpy as np\n",
    "import matplotlib.pyplot as plt\n",
    "from PIL import Image"
   ]
  },
  {
   "cell_type": "code",
   "execution_count": null,
   "metadata": {},
   "outputs": [],
   "source": [
    "relative_path = get_training_data_path('classifier', 'dress')\n",
    "\n",
    "file_names = []\n",
    "\n",
    "# Walk through all files and directories recursively\n",
    "for root, dirs, files in os.walk(relative_path):\n",
    "    # Iterate over files in the current directory\n",
    "    for filename in files:\n",
    "        fullpath = os.path.join(relative_path, filename)\n",
    "        file_names.append([filename, fullpath])\n",
    "\n",
    "        # Open the image file\n",
    "        image = Image.open(fullpath)\n",
    "        \n",
    "        if image.width != 250 and image.height != 250:\n",
    "\n",
    "            # Define the new size (width, height)\n",
    "            new_size = (250, 250)\n",
    "\n",
    "            # Resize the image\n",
    "            resized_image = image.resize(new_size)\n",
    "\n",
    "            # Save the resized image\n",
    "            resized_image.save(fullpath)\n"
   ]
  },
  {
   "cell_type": "code",
   "execution_count": null,
   "metadata": {},
   "outputs": [],
   "source": [
    "# Walk through all files and directories recursively\n",
    "for root, dirs, files in os.walk(relative_path):\n",
    "    # Iterate over files in the current directory\n",
    "    for filename in files:\n",
    "        fullpath = os.path.join(relative_path, filename)\n",
    "        file_names.append([filename, fullpath])\n",
    "\n",
    "        # Open the image file\n",
    "        image = Image.open(fullpath)\n",
    "        print(str(image.width)  + \" \" + str(image.height))"
   ]
  }
 ],
 "metadata": {
  "kernelspec": {
   "display_name": "torch",
   "language": "python",
   "name": "python3"
  },
  "language_info": {
   "codemirror_mode": {
    "name": "ipython",
    "version": 3
   },
   "file_extension": ".py",
   "mimetype": "text/x-python",
   "name": "python",
   "nbconvert_exporter": "python",
   "pygments_lexer": "ipython3",
   "version": "3.11.0"
  },
  "orig_nbformat": 4
 },
 "nbformat": 4,
 "nbformat_minor": 2
}
