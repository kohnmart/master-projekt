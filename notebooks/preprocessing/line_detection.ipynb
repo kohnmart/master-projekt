{
 "cells": [
  {
   "cell_type": "markdown",
   "metadata": {},
   "source": [
    "# OPEN CV Line Detection"
   ]
  },
  {
   "cell_type": "markdown",
   "metadata": {},
   "source": [
    "<span style=\"color: white;\">\n",
    "Explanation: This notebook focuses on the study of line detection to <br> estimate the current position of a cloth item by computing <br> hugh lines and taking an average, global line. Key components are <br> the hugh line detection, rotational realignment and <br> evaluation through plotting.\n",
    "</span>\n",
    "\n",
    "\n",
    "https://docs.opencv.org/3.4/d9/db0/tutorial_hough_lines.html"
   ]
  },
  {
   "cell_type": "markdown",
   "metadata": {},
   "source": [
    "**IMPORT**"
   ]
  },
  {
   "cell_type": "code",
   "execution_count": null,
   "metadata": {},
   "outputs": [],
   "source": [
    "# system\n",
    "import sys\n",
    "import os\n",
    "\n",
    "sys.path.append(os.path.abspath(os.path.join(os.getcwd(), '../../')))\n",
    "\n",
    "from config.path import get_training_data_path, get_all_files_from_folder\n",
    "\n",
    "import cv2\n",
    "import random \n",
    "import numpy as np\n",
    "import matplotlib.pyplot as plt"
   ]
  },
  {
   "cell_type": "markdown",
   "metadata": {},
   "source": [
    "**HELPER FUNCTION FOR HUGH LINES AND REALIGNMENT**"
   ]
  },
  {
   "cell_type": "code",
   "execution_count": null,
   "metadata": {},
   "outputs": [],
   "source": [
    "def correct_rotation_and_display_with_lines(image):\n",
    "\n",
    "    image = cv2.medianBlur(image, 11)\n",
    "    image = cv2.cvtColor(image, cv2.COLOR_BGR2RGB)  \n",
    "    gray = cv2.cvtColor(image, cv2.COLOR_RGB2GRAY)\n",
    "\n",
    "    gray = cv2.equalizeHist(gray)\n",
    "\n",
    "    # Detect edges\n",
    "    edges = cv2.Canny(gray, 10, 100, apertureSize=5)\n",
    "    \n",
    "    # Use Hough Line Transform to detect lines\n",
    "    lines = cv2.HoughLinesP(edges, 1, np.pi/180, threshold=100, minLineLength=200, maxLineGap=50)\n",
    "\n",
    "    if lines is not None:\n",
    "        # Prepare to calculate the average angle\n",
    "        sin_sum = 0\n",
    "        cos_sum = 0\n",
    "\n",
    "        for line in lines:\n",
    "            x1, y1, x2, y2 = line[0]\n",
    "            length = np.sqrt((x2 - x1) ** 2 + (y2 - y1) ** 2)\n",
    "            #print(length)\n",
    "            if length > 200:\n",
    "                cv2.line(image, (x1, y1), (x2, y2), (255, 0, 0), 3)  # Draw each detected line in red\n",
    "                cv2.circle(image, (x1, y1), 3, (0, 255, 0)) \n",
    "                cv2.circle(image, (x2, y2), 3, (0, 255, 0)) \n",
    "                angle = np.arctan2(y2 - y1, x2 - x1)\n",
    "                sin_sum += np.sin(angle)\n",
    "                cos_sum += np.cos(angle)\n",
    "\n",
    "        # Calculate average angle using vector sums\n",
    "        average_angle = np.arctan2(sin_sum, cos_sum)\n",
    "        average_angle_degrees = np.degrees(average_angle)\n",
    "\n",
    "\n",
    "\n",
    "        # Rotate image to align\n",
    "        width, height = image.shape[1], image.shape[0]\n",
    "        rotation_matrix = cv2.getRotationMatrix2D((width // 2, height // 2), -40, 1)\n",
    "        rotated_image = cv2.warpAffine(image, rotation_matrix, (width, height))\n",
    "        return average_angle_degrees\n",
    "    else:\n",
    "        rotated_image = image  # No rotation if no lines are detected\n",
    "        return 0\n"
   ]
  },
  {
   "cell_type": "markdown",
   "metadata": {},
   "source": [
    "**LOAD TRAINING DATA**"
   ]
  },
  {
   "cell_type": "code",
   "execution_count": null,
   "metadata": {},
   "outputs": [],
   "source": [
    "path = get_training_data_path(data_type='classifier', class_type='tshirt')\n",
    "files = get_all_files_from_folder(path)\n",
    "files = files[:30]\n",
    "len(files)"
   ]
  },
  {
   "cell_type": "markdown",
   "metadata": {},
   "source": [
    "**HELPER FUNCTION TO ROTATE IMAGE**"
   ]
  },
  {
   "cell_type": "code",
   "execution_count": null,
   "metadata": {},
   "outputs": [],
   "source": [
    "def rotate_image(image_path, angle):\n",
    "    # Load the image\n",
    "    image = cv2.imread(image_path)\n",
    "    \n",
    "    if image is None:\n",
    "        raise ValueError(\"Image not found or path is incorrect.\")\n",
    "    \n",
    "    # Get the dimensions of the image\n",
    "    (height, width) = image.shape[:2]\n",
    "    \n",
    "    # Compute the center of the image\n",
    "    center = (width // 2, height // 2)\n",
    "    \n",
    "    # Get the rotation matrix\n",
    "    rotation_matrix = cv2.getRotationMatrix2D(center, angle, 1.0)\n",
    "    \n",
    "    # Compute the new dimensions of the image\n",
    "    # This ensures the rotated image fits in the frame\n",
    "    abs_cos = abs(rotation_matrix[0, 0])\n",
    "    abs_sin = abs(rotation_matrix[0, 1])\n",
    "    \n",
    "    # Compute new bounding dimensions\n",
    "    new_width = int(height * abs_sin + width * abs_cos)\n",
    "    new_height = int(height * abs_cos + width * abs_sin)\n",
    "    \n",
    "    # Adjust the rotation matrix to take into account the translation\n",
    "    rotation_matrix[0, 2] += (new_width / 2) - center[0]\n",
    "    rotation_matrix[1, 2] += (new_height / 2) - center[1]\n",
    "    \n",
    "    # Rotate the image\n",
    "    rotated_image = cv2.warpAffine(image, rotation_matrix, (new_width, new_height))\n",
    "    \n",
    "    return rotated_image\n"
   ]
  },
  {
   "cell_type": "markdown",
   "metadata": {},
   "source": [
    "**PROCESSING AND PLOTTING**"
   ]
  },
  {
   "cell_type": "code",
   "execution_count": null,
   "metadata": {},
   "outputs": [],
   "source": [
    "res = []\n",
    "\n",
    "for file in files:\n",
    "    fullpath = os.path.join(path, file)\n",
    "    random_angle = random.uniform(0, 360)\n",
    "    img = rotate_image(fullpath, random_angle)\n",
    "    corrected_angle = correct_rotation_and_display_with_lines(img)\n",
    "    res.append([random_angle, corrected_angle])\n",
    "\n",
    "# Convert to numpy array for easier manipulation\n",
    "res = np.array(res)\n",
    "random_angles = res[:, 0]\n",
    "corrected_angles = res[:, 1]\n",
    "\n",
    "# Compute absolute errors\n",
    "errors = np.abs(random_angles - corrected_angles)\n",
    "errors = np.minimum(errors, 360 - errors)  # Account for circular nature of angles\n",
    "\n",
    "# Calculate summary statistics\n",
    "mean_error = np.mean(errors)\n",
    "std_error = np.std(errors)\n",
    "\n",
    "# Print summary statistics\n",
    "print(f'Mean Absolute Error: {mean_error:.2f}°')\n",
    "print(f'Standard Deviation of Error: {std_error:.2f}°')\n",
    "\n",
    "# Assign unique colors to each pair\n",
    "colors = plt.cm.viridis(np.linspace(0, 1, len(random_angles)))\n",
    "\n",
    "# Visualization\n",
    "fig, ax = plt.subplots(1, 2, figsize=(14, 6))\n",
    "\n",
    "# Scatter plot of random angles vs. corrected angles with pair-wise colors and lines\n",
    "for i in range(len(random_angles)):\n",
    "    ax[0].scatter(random_angles[i], corrected_angles[i], color=colors[i], alpha=0.75)\n",
    "    ax[0].plot([random_angles[i], random_angles[i]], [random_angles[i], corrected_angles[i]], color=colors[i], alpha=0.5, linestyle='-')\n",
    "\n",
    "ax[0].plot([0, 360], [0, 360], color='red', linestyle='--')  # Perfect correlation line\n",
    "ax[0].set_xlabel('Random Angles (Ground Truth)')\n",
    "ax[0].set_ylabel('Corrected Angles')\n",
    "ax[0].set_title('Random Angles vs. Corrected Angles')\n",
    "ax[0].set_xlim([0, 360])\n",
    "ax[0].set_ylim([0, 360])\n",
    "\n",
    "# Histogram of errors\n",
    "ax[1].hist(errors, bins=30, alpha=0.75, color='blue')\n",
    "ax[1].set_xlabel('Absolute Error (°)')\n",
    "ax[1].set_ylabel('Frequency')\n",
    "ax[1].set_title('Distribution of Absolute Errors')\n",
    "\n",
    "plt.suptitle('Evaluation of Angle Correction Accuracy Tshirt')\n",
    "plt.tight_layout(rect=[0, 0.03, 1, 0.95])\n",
    "plt.show()\n"
   ]
  }
 ],
 "metadata": {
  "kernelspec": {
   "display_name": "torch",
   "language": "python",
   "name": "python3"
  },
  "language_info": {
   "codemirror_mode": {
    "name": "ipython",
    "version": 3
   },
   "file_extension": ".py",
   "mimetype": "text/x-python",
   "name": "python",
   "nbconvert_exporter": "python",
   "pygments_lexer": "ipython3",
   "version": "3.11.0"
  },
  "orig_nbformat": 4
 },
 "nbformat": 4,
 "nbformat_minor": 2
}
