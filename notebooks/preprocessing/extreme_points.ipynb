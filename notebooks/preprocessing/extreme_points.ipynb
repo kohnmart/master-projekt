{
 "cells": [
  {
   "cell_type": "markdown",
   "metadata": {},
   "source": [
    "# EXTREME POINTS"
   ]
  },
  {
   "cell_type": "markdown",
   "metadata": {},
   "source": [
    "<span style=\"color: white;\">\n",
    "Explanation: This notebook focuses on the study of extreme points in various cloth <br> types to estimate the current alignment and adjust the orientation to realign north. <br> The key components include extreme point detection, rotational realignment and <br> evaluation through plotting.\n",
    "</span>\n",
    "\n",
    "https://docs.opencv.org/3.4/d4/d73/tutorial_py_contours_begin.html"
   ]
  },
  {
   "cell_type": "markdown",
   "metadata": {},
   "source": [
    "**IMPORT**"
   ]
  },
  {
   "cell_type": "code",
   "execution_count": null,
   "metadata": {},
   "outputs": [],
   "source": [
    "# system\n",
    "import sys\n",
    "import os\n",
    "\n",
    "sys.path.append(os.path.abspath(os.path.join(os.getcwd(), '../../')))\n",
    "\n",
    "from config.path import get_training_data_path, get_all_files_from_folder\n",
    "\n",
    "import cv2\n",
    "import random\n",
    "import numpy as np\n",
    "import matplotlib.pyplot as plt\n",
    "from PIL import Image\n"
   ]
  },
  {
   "cell_type": "markdown",
   "metadata": {},
   "source": [
    "**HELPER FUNCTION TO FIND CONTOURS AND EXTREME POINTS <br>\n",
    "RETURNING AVERAGE ANGLE**"
   ]
  },
  {
   "cell_type": "code",
   "execution_count": null,
   "metadata": {},
   "outputs": [],
   "source": [
    "def find_contours_and_extreme_points(image):\n",
    "    #image = cv2.imread(image_path)\n",
    "    original_image = image.copy()  # Keep a copy of the original image\n",
    "    gray = cv2.cvtColor(image, cv2.COLOR_BGR2GRAY)\n",
    "    blurred = cv2.GaussianBlur(gray, (1, 1), 0)\n",
    "    _, thresh = cv2.threshold(blurred, 70, 105, cv2.THRESH_BINARY)\n",
    "\n",
    "    # Find contours\n",
    "    contours, _ = cv2.findContours(thresh, cv2.RETR_EXTERNAL, cv2.CHAIN_APPROX_SIMPLE)\n",
    "\n",
    "    # Assume largest contour is our object of interest\n",
    "    if contours:\n",
    "        c = max(contours, key=cv2.contourArea)\n",
    "        # Compute the bounding box of the contour\n",
    "        x, y, w, h = cv2.boundingRect(c)\n",
    "\n",
    "        # Draw the contour and bounding box\n",
    "        cv2.drawContours(image, [c], -1, (0, 255, 0), 2)\n",
    "        cv2.rectangle(image, (x, y), (x + w, y + h), (0, 255, 0), 2)\n",
    "\n",
    "        # Calculate extreme points\n",
    "        leftmost = tuple(c[c[:, :, 0].argmin()][0])\n",
    "        rightmost = tuple(c[c[:, :, 0].argmax()][0])\n",
    "        topmost = tuple(c[c[:, :, 1].argmin()][0])\n",
    "        bottommost = tuple(c[c[:, :, 1].argmax()][0])\n",
    "\n",
    "        # Draw extreme points\n",
    "        cv2.circle(image, leftmost, 8, (0, 0, 255), -1) # Red\n",
    "        cv2.circle(image, rightmost, 8, (0, 128, 255), -1) # Orange\n",
    "        cv2.circle(image, topmost, 8, (255, 0, 0), -1) # Blue\n",
    "        cv2.circle(image, bottommost, 8, (255, 255, 0), -1) # Yellow\n",
    "\n",
    "        # Draw lines between extreme points\n",
    "        cv2.line(image, leftmost, rightmost, (255, 255, 255), 2)\n",
    "        cv2.line(image, topmost, bottommost, (255, 255, 255), 2)\n",
    "\n",
    "        # Calculate moments to find the center of mass\n",
    "        M = cv2.moments(c)\n",
    "        if M[\"m00\"] != 0:\n",
    "            cX = int(M[\"m10\"] / M[\"m00\"])\n",
    "            cY = int(M[\"m01\"] / M[\"m00\"])\n",
    "        else:\n",
    "            cX, cY = 0, 0\n",
    "\n",
    "        # Draw the center of mass\n",
    "        cv2.circle(image, (cX, cY), 8, (255, 255, 255), -1) # White\n",
    "\n",
    "        # Calculate the angles of the lines\n",
    "        angle_horizontal = np.arctan2(rightmost[1] - leftmost[1], rightmost[0] - leftmost[0])\n",
    "        angle_vertical = np.arctan2(bottommost[1] - topmost[1], bottommost[0] - topmost[0])\n",
    "        \n",
    "        # Average the angles\n",
    "        average_angle = np.degrees((angle_horizontal + angle_vertical) / 2)\n",
    "\n",
    "        # Rotate the image to make the average angle zero\n",
    "        (h, w) = original_image.shape[:2]\n",
    "        center = (w // 2, h // 2)\n",
    "        M = cv2.getRotationMatrix2D(center, -average_angle, 1.0)\n",
    "        rotated_image = cv2.warpAffine(original_image, M, (w, h))\n",
    "\n",
    "        return average_angle"
   ]
  },
  {
   "cell_type": "markdown",
   "metadata": {},
   "source": [
    "**HELPER FUNCTION ROTATE IMAGE**"
   ]
  },
  {
   "cell_type": "code",
   "execution_count": null,
   "metadata": {},
   "outputs": [],
   "source": [
    "def rotate_image(image_path, angle):\n",
    "    # Load the image\n",
    "    image = cv2.imread(image_path)\n",
    "    \n",
    "    if image is None:\n",
    "        raise ValueError(\"Image not found or path is incorrect.\")\n",
    "    \n",
    "    # Get the dimensions of the image\n",
    "    (height, width) = image.shape[:2]\n",
    "    \n",
    "    # Compute the center of the image\n",
    "    center = (width // 2, height // 2)\n",
    "    \n",
    "    # Get the rotation matrix\n",
    "    rotation_matrix = cv2.getRotationMatrix2D(center, angle, 1.0)\n",
    "    \n",
    "    # Compute the new dimensions of the image\n",
    "    # This ensures the rotated image fits in the frame\n",
    "    abs_cos = abs(rotation_matrix[0, 0])\n",
    "    abs_sin = abs(rotation_matrix[0, 1])\n",
    "    \n",
    "    # Compute new bounding dimensions\n",
    "    new_width = int(height * abs_sin + width * abs_cos)\n",
    "    new_height = int(height * abs_cos + width * abs_sin)\n",
    "    \n",
    "    # Adjust the rotation matrix to take into account the translation\n",
    "    rotation_matrix[0, 2] += (new_width / 2) - center[0]\n",
    "    rotation_matrix[1, 2] += (new_height / 2) - center[1]\n",
    "    \n",
    "    # Rotate the image\n",
    "    rotated_image = cv2.warpAffine(image, rotation_matrix, (new_width, new_height))\n",
    "    \n",
    "    return rotated_image\n"
   ]
  },
  {
   "cell_type": "markdown",
   "metadata": {},
   "source": [
    "**LOAD TRAINING DATA**"
   ]
  },
  {
   "cell_type": "code",
   "execution_count": null,
   "metadata": {},
   "outputs": [],
   "source": [
    "path = get_training_data_path(data_type='classifier', class_type='pant')\n",
    "files = get_all_files_from_folder(path)\n",
    "files = files[:30]"
   ]
  },
  {
   "cell_type": "markdown",
   "metadata": {},
   "source": [
    "**PROCESSING AND PLOTTING**"
   ]
  },
  {
   "cell_type": "code",
   "execution_count": null,
   "metadata": {},
   "outputs": [],
   "source": [
    "res = []\n",
    "\n",
    "for file in files:\n",
    "    fullpath = os.path.join(path, file)\n",
    "    random_angle = random.uniform(0, 360)\n",
    "    img = rotate_image(fullpath, random_angle)\n",
    "    corrected_angle = find_contours_and_extreme_points(img)\n",
    "    res.append([random_angle, corrected_angle])\n",
    "\n",
    "# Convert to numpy array for easier manipulation\n",
    "res = np.array(res)\n",
    "random_angles = res[:, 0]\n",
    "corrected_angles = res[:, 1]\n",
    "\n",
    "# Compute absolute errors\n",
    "errors = np.abs(random_angles - corrected_angles)\n",
    "errors = np.minimum(errors, 360 - errors)  # Account for circular nature of angles\n",
    "\n",
    "# Calculate summary statistics\n",
    "mean_error = np.mean(errors)\n",
    "std_error = np.std(errors)\n",
    "\n",
    "# Print summary statistics\n",
    "print(f'Mean Absolute Error: {mean_error:.2f}°')\n",
    "print(f'Standard Deviation of Error: {std_error:.2f}°')\n",
    "\n",
    "# Assign unique colors to each pair\n",
    "colors = plt.cm.viridis(np.linspace(0, 1, len(random_angles)))\n",
    "\n",
    "# Visualization\n",
    "fig, ax = plt.subplots(1, 2, figsize=(14, 6))\n",
    "\n",
    "# Scatter plot of random angles vs. corrected angles with pair-wise colors and lines\n",
    "for i in range(len(random_angles)):\n",
    "    ax[0].scatter(random_angles[i], corrected_angles[i], color=colors[i], alpha=0.75)\n",
    "    ax[0].plot([random_angles[i], random_angles[i]], [random_angles[i], corrected_angles[i]], color=colors[i], alpha=0.5, linestyle='-')\n",
    "\n",
    "ax[0].plot([0, 360], [0, 360], color='red', linestyle='--')  # Perfect correlation line\n",
    "ax[0].set_xlabel('Random Angles (Ground Truth)')\n",
    "ax[0].set_ylabel('Corrected Angles')\n",
    "ax[0].set_title('Random Angles vs. Corrected Angles')\n",
    "ax[0].set_xlim([0, 360])\n",
    "ax[0].set_ylim([0, 360])\n",
    "\n",
    "# Histogram of errors\n",
    "ax[1].hist(errors, bins=30, alpha=0.75, color='blue')\n",
    "ax[1].set_xlabel('Absolute Error (°)')\n",
    "ax[1].set_ylabel('Frequency')\n",
    "ax[1].set_title('Distribution of Absolute Errors')\n",
    "\n",
    "plt.suptitle('Evaluation of Angle Correction Accuracy')\n",
    "plt.tight_layout(rect=[0, 0.03, 1, 0.95])\n",
    "plt.show()\n"
   ]
  }
 ],
 "metadata": {
  "kernelspec": {
   "display_name": "torch",
   "language": "python",
   "name": "python3"
  },
  "language_info": {
   "codemirror_mode": {
    "name": "ipython",
    "version": 3
   },
   "file_extension": ".py",
   "mimetype": "text/x-python",
   "name": "python",
   "nbconvert_exporter": "python",
   "pygments_lexer": "ipython3",
   "version": "3.11.0"
  },
  "orig_nbformat": 4
 },
 "nbformat": 4,
 "nbformat_minor": 2
}
