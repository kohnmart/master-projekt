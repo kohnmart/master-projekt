{
 "cells": [
  {
   "cell_type": "markdown",
   "metadata": {},
   "source": [
    "# SYMMETRIE"
   ]
  },
  {
   "cell_type": "markdown",
   "metadata": {},
   "source": [
    "<span style=\"color: white;\">\n",
    "Explanation: This notebook focuses on identifying symmetry in cloth <br> samples to estimate an alignment line. It is used for <br> calculating angles and realigning orientation to the north.\n",
    "</span>\n",
    "\n",
    "\n",
    "https://docs.opencv.org/3.4/d0/d49/tutorial_moments.html"
   ]
  },
  {
   "cell_type": "markdown",
   "metadata": {},
   "source": [
    "**IMPORT**"
   ]
  },
  {
   "cell_type": "code",
   "execution_count": null,
   "metadata": {},
   "outputs": [],
   "source": [
    "# system\n",
    "import sys\n",
    "import os\n",
    "\n",
    "sys.path.append(os.path.abspath(os.path.join(os.getcwd(), '../../')))\n",
    "\n",
    "from config.path import get_training_data_path\n",
    "\n",
    "import cv2\n",
    "import numpy as np\n",
    "import matplotlib.pyplot as plt\n",
    "from PIL import Image\n",
    "import random"
   ]
  },
  {
   "cell_type": "markdown",
   "metadata": {},
   "source": [
    "**HELPER FUNCTIONS**"
   ]
  },
  {
   "cell_type": "code",
   "execution_count": null,
   "metadata": {},
   "outputs": [],
   "source": [
    "def detect_symmetry_axis(image, width, height):\n",
    "    # Implement symmetry detection logic here\n",
    "    # Placeholder: return a random line for demonstration\n",
    "    return width // 2, height // 2, width // 2 + 100, height // 2\n",
    "\n",
    "def rotate_using_symmetry_and_plot_with_moments(image_path):\n",
    "    image = cv2.imread(image_path, cv2.IMREAD_GRAYSCALE)\n",
    "    width, height = image.shape[1], image.shape[0]\n",
    "    \n",
    "    # Detect symmetry axis (This should be replaced with actual symmetry detection logic)\n",
    "    sx1, sy1, sx2, sy2 = detect_symmetry_axis(image, width, height)\n",
    "    \n",
    "    # Define the rotation matrix and apply it using the detected symmetry\n",
    "    angle = np.degrees(np.arctan2(sy2 - sy1, sx2 - sx1))\n",
    "    rotation_matrix = cv2.getRotationMatrix2D((width // 2, height // 2), angle, 1)\n",
    "    image = cv2.warpAffine(image, rotation_matrix, (width, height))\n",
    "\n",
    "    # Following steps remain same for thresholding and moment calculations\n",
    "    _, binary_image = cv2.threshold(image, 128, 255, cv2.THRESH_BINARY | cv2.THRESH_OTSU)\n",
    "    moments = cv2.moments(binary_image)\n",
    "    if moments['m00'] != 0:\n",
    "        cx = int(moments['m10'] / moments['m00'])\n",
    "        cy = int(moments['m01'] / moments['m00'])\n",
    "\n",
    "        # Drawing the symmetry line for visualization\n",
    "        cv2.line(image, (sx1, sy1), (sx2, sy2), (0, 255, 0), 3)\n",
    "    \n",
    "    # Display results\n",
    "    plt.figure(figsize=(10, 5))\n",
    "    plt.imshow(image, cmap='gray')\n",
    "    plt.title('Symmetry Aligned Image')\n",
    "    plt.axis('off')\n",
    "    plt.show()"
   ]
  },
  {
   "cell_type": "markdown",
   "metadata": {},
   "source": [
    "**PROCESSING AND PLOTTING**"
   ]
  },
  {
   "cell_type": "code",
   "execution_count": null,
   "metadata": {},
   "outputs": [],
   "source": [
    "relative_path = get_training_data_path('classifier', 'dress')\n",
    "full_path = os.path.join(relative_path, 'dress7.jpg')\n",
    "rotate_using_symmetry_and_plot_with_moments(full_path)"
   ]
  }
 ],
 "metadata": {
  "kernelspec": {
   "display_name": "torch",
   "language": "python",
   "name": "python3"
  },
  "language_info": {
   "codemirror_mode": {
    "name": "ipython",
    "version": 3
   },
   "file_extension": ".py",
   "mimetype": "text/x-python",
   "name": "python",
   "nbconvert_exporter": "python",
   "pygments_lexer": "ipython3",
   "version": "3.11.0"
  },
  "orig_nbformat": 4
 },
 "nbformat": 4,
 "nbformat_minor": 2
}
