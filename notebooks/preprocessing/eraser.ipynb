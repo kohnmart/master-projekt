{
 "cells": [
  {
   "cell_type": "markdown",
   "metadata": {},
   "source": [
    "# ERASER"
   ]
  },
  {
   "cell_type": "markdown",
   "metadata": {},
   "source": [
    "<span style=\"color: white;\">Explanation: Notebook for testing various eraser shapes on cloth samples, <br> specifically designed to cut out areas of interest, forcing the algorithm during <br> training to focus on other parts of the image.</span>\n"
   ]
  },
  {
   "cell_type": "markdown",
   "metadata": {},
   "source": [
    "**IMPORT**"
   ]
  },
  {
   "cell_type": "code",
   "execution_count": null,
   "metadata": {},
   "outputs": [],
   "source": [
    "import sys\n",
    "import os \n",
    "\n",
    "sys.path.append(os.path.abspath(os.path.join(os.getcwd(), '../..')))\n",
    "\n",
    "from config.path import get_training_data_path\n",
    "\n",
    "\n",
    "from PIL import Image, ImageDraw\n",
    "import random\n",
    "import numpy as np\n",
    "import matplotlib.pyplot as plt"
   ]
  },
  {
   "cell_type": "markdown",
   "metadata": {},
   "source": [
    "**LOAD FROM DATA PATH**"
   ]
  },
  {
   "cell_type": "code",
   "execution_count": null,
   "metadata": {},
   "outputs": [],
   "source": [
    "relative_path = get_training_data_path('classifier', 'dress')"
   ]
  },
  {
   "cell_type": "markdown",
   "metadata": {},
   "source": [
    "**HELPER FUNCTIONS**"
   ]
  },
  {
   "cell_type": "code",
   "execution_count": 1,
   "metadata": {},
   "outputs": [],
   "source": [
    "def generate_random_aspect_ratio(min_ratio, max_ratio, original_area):\n",
    "    min_width = ((min_ratio * original_area) ** 0.5)\n",
    "    max_width = ((max_ratio * original_area) ** 0.5)\n",
    "    width = random.uniform(min_width, max_width)\n",
    "    height = width / random.uniform(min_ratio, max_ratio)\n",
    "    aspect_ratio = width / height\n",
    "    return aspect_ratio, width * height, width, height\n",
    "\n",
    "def erase_pixels(image, x, y, width, height, noise_factor):\n",
    "    draw = ImageDraw.Draw(image)\n",
    "    noise_x = np.random.normal(scale=noise_factor, size=4)\n",
    "    noise_y = np.random.normal(scale=noise_factor, size=4)\n",
    "    draw.polygon([(x + noise_x[0], y + noise_y[0]),\n",
    "                  (x + width + noise_x[1], y + noise_y[1]),\n",
    "                  (x + width + noise_x[2], y + height + noise_y[2]),\n",
    "                  (x + noise_x[3], y + height + noise_y[3])],\n",
    "                 fill=\"black\")"
   ]
  },
  {
   "cell_type": "markdown",
   "metadata": {},
   "source": [
    "**ERASE PROCESSING AND PLOTTING**"
   ]
  },
  {
   "cell_type": "code",
   "execution_count": null,
   "metadata": {},
   "outputs": [],
   "source": [
    "original_image = Image.open(\"image.jpg\")\n",
    "original_area = original_image.width * original_image.height\n",
    "\n",
    "min_ratio = 0.5\n",
    "max_ratio = 2.0\n",
    "noise_factor = 5  # Adjust noise factor as needed\n",
    "\n",
    "aspect_ratio, area, width, height = generate_random_aspect_ratio(min_ratio, max_ratio, original_area)\n",
    "\n",
    "x = random.randint(0, original_image.width - int(width))\n",
    "y = random.randint(0, original_image.height - int(height))\n",
    "\n",
    "modified_image = original_image.copy()\n",
    "erase_pixels(modified_image, x, y, int(width), int(height), noise_factor)\n",
    "\n",
    "plt.imshow(modified_image)\n",
    "plt.title(\"Modified Image with Noisy Rectangle\")\n",
    "plt.axis(\"off\")\n",
    "plt.show()"
   ]
  }
 ],
 "metadata": {
  "kernelspec": {
   "display_name": "torch",
   "language": "python",
   "name": "python3"
  },
  "language_info": {
   "codemirror_mode": {
    "name": "ipython",
    "version": 3
   },
   "file_extension": ".py",
   "mimetype": "text/x-python",
   "name": "python",
   "nbconvert_exporter": "python",
   "pygments_lexer": "ipython3",
   "version": "3.11.0"
  },
  "orig_nbformat": 4
 },
 "nbformat": 4,
 "nbformat_minor": 2
}
