{
 "cells": [
  {
   "cell_type": "code",
   "execution_count": 1,
   "metadata": {},
   "outputs": [],
   "source": [
    "import sys\n",
    "import os \n",
    "from PIL import Image, ImageDraw\n",
    "import random\n",
    "import numpy as np\n",
    "import matplotlib.pyplot as plt\n",
    "sys.path.append(os.path.abspath(os.path.join(os.getcwd(), '../..')))\n",
    "from config.path import get_training_data_path"
   ]
  },
  {
   "cell_type": "code",
   "execution_count": 2,
   "metadata": {},
   "outputs": [],
   "source": [
    "relative_path = get_training_data_path('classifier', 'dress')"
   ]
  },
  {
   "cell_type": "code",
   "execution_count": 3,
   "metadata": {},
   "outputs": [
    {
     "ename": "FileNotFoundError",
     "evalue": "[Errno 2] No such file or directory: 'your_image.jpg'",
     "output_type": "error",
     "traceback": [
      "\u001b[0;31m---------------------------------------------------------------------------\u001b[0m",
      "\u001b[0;31mFileNotFoundError\u001b[0m                         Traceback (most recent call last)",
      "Cell \u001b[0;32mIn[3], line 20\u001b[0m\n\u001b[1;32m     13\u001b[0m     draw\u001b[39m.\u001b[39mpolygon([(x \u001b[39m+\u001b[39m noise_x[\u001b[39m0\u001b[39m], y \u001b[39m+\u001b[39m noise_y[\u001b[39m0\u001b[39m]),\n\u001b[1;32m     14\u001b[0m                   (x \u001b[39m+\u001b[39m width \u001b[39m+\u001b[39m noise_x[\u001b[39m1\u001b[39m], y \u001b[39m+\u001b[39m noise_y[\u001b[39m1\u001b[39m]),\n\u001b[1;32m     15\u001b[0m                   (x \u001b[39m+\u001b[39m width \u001b[39m+\u001b[39m noise_x[\u001b[39m2\u001b[39m], y \u001b[39m+\u001b[39m height \u001b[39m+\u001b[39m noise_y[\u001b[39m2\u001b[39m]),\n\u001b[1;32m     16\u001b[0m                   (x \u001b[39m+\u001b[39m noise_x[\u001b[39m3\u001b[39m], y \u001b[39m+\u001b[39m height \u001b[39m+\u001b[39m noise_y[\u001b[39m3\u001b[39m])],\n\u001b[1;32m     17\u001b[0m                  fill\u001b[39m=\u001b[39m\u001b[39m\"\u001b[39m\u001b[39mblack\u001b[39m\u001b[39m\"\u001b[39m)\n\u001b[1;32m     19\u001b[0m \u001b[39m# Example usage/home/kohnle/master-projekt/notebooks/pytorch/classifier/clip_out\u001b[39;00m\n\u001b[0;32m---> 20\u001b[0m original_image \u001b[39m=\u001b[39m Image\u001b[39m.\u001b[39;49mopen(\u001b[39m\"\u001b[39;49m\u001b[39myour_image.jpg\u001b[39;49m\u001b[39m\"\u001b[39;49m)\n\u001b[1;32m     21\u001b[0m original_area \u001b[39m=\u001b[39m original_image\u001b[39m.\u001b[39mwidth \u001b[39m*\u001b[39m original_image\u001b[39m.\u001b[39mheight\n\u001b[1;32m     23\u001b[0m min_ratio \u001b[39m=\u001b[39m \u001b[39m0.5\u001b[39m\n",
      "File \u001b[0;32m~/anaconda3/envs/torch/lib/python3.11/site-packages/PIL/Image.py:3247\u001b[0m, in \u001b[0;36mopen\u001b[0;34m(fp, mode, formats)\u001b[0m\n\u001b[1;32m   3244\u001b[0m     filename \u001b[39m=\u001b[39m fp\n\u001b[1;32m   3246\u001b[0m \u001b[39mif\u001b[39;00m filename:\n\u001b[0;32m-> 3247\u001b[0m     fp \u001b[39m=\u001b[39m builtins\u001b[39m.\u001b[39;49mopen(filename, \u001b[39m\"\u001b[39;49m\u001b[39mrb\u001b[39;49m\u001b[39m\"\u001b[39;49m)\n\u001b[1;32m   3248\u001b[0m     exclusive_fp \u001b[39m=\u001b[39m \u001b[39mTrue\u001b[39;00m\n\u001b[1;32m   3250\u001b[0m \u001b[39mtry\u001b[39;00m:\n",
      "\u001b[0;31mFileNotFoundError\u001b[0m: [Errno 2] No such file or directory: 'your_image.jpg'"
     ]
    }
   ],
   "source": [
    "def generate_random_aspect_ratio(min_ratio, max_ratio, original_area):\n",
    "    min_width = ((min_ratio * original_area) ** 0.5)\n",
    "    max_width = ((max_ratio * original_area) ** 0.5)\n",
    "    width = random.uniform(min_width, max_width)\n",
    "    height = width / random.uniform(min_ratio, max_ratio)\n",
    "    aspect_ratio = width / height\n",
    "    return aspect_ratio, width * height, width, height\n",
    "\n",
    "def erase_pixels(image, x, y, width, height, noise_factor):\n",
    "    draw = ImageDraw.Draw(image)\n",
    "    noise_x = np.random.normal(scale=noise_factor, size=4)\n",
    "    noise_y = np.random.normal(scale=noise_factor, size=4)\n",
    "    draw.polygon([(x + noise_x[0], y + noise_y[0]),\n",
    "                  (x + width + noise_x[1], y + noise_y[1]),\n",
    "                  (x + width + noise_x[2], y + height + noise_y[2]),\n",
    "                  (x + noise_x[3], y + height + noise_y[3])],\n",
    "                 fill=\"black\")\n",
    "\n",
    "# Example usage/home/kohnle/master-projekt/notebooks/pytorch/classifier/clip_out\n",
    "original_image = Image.open(\"your_image.jpg\")\n",
    "original_area = original_image.width * original_image.height\n",
    "\n",
    "min_ratio = 0.5\n",
    "max_ratio = 2.0\n",
    "noise_factor = 5  # Adjust noise factor as needed\n",
    "\n",
    "aspect_ratio, area, width, height = generate_random_aspect_ratio(min_ratio, max_ratio, original_area)\n",
    "\n",
    "x = random.randint(0, original_image.width - int(width))\n",
    "y = random.randint(0, original_image.height - int(height))\n",
    "\n",
    "modified_image = original_image.copy()\n",
    "erase_pixels(modified_image, x, y, int(width), int(height), noise_factor)\n",
    "\n",
    "plt.imshow(modified_image)\n",
    "plt.title(\"Modified Image with Noisy Rectangle\")\n",
    "plt.axis(\"off\")\n",
    "plt.show()"
   ]
  }
 ],
 "metadata": {
  "kernelspec": {
   "display_name": "torch",
   "language": "python",
   "name": "python3"
  },
  "language_info": {
   "codemirror_mode": {
    "name": "ipython",
    "version": 3
   },
   "file_extension": ".py",
   "mimetype": "text/x-python",
   "name": "python",
   "nbconvert_exporter": "python",
   "pygments_lexer": "ipython3",
   "version": "3.11.0"
  },
  "orig_nbformat": 4
 },
 "nbformat": 4,
 "nbformat_minor": 2
}
